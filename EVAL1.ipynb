{
 "cells": [
  {
   "cell_type": "code",
   "execution_count": 9,
   "metadata": {},
   "outputs": [
    {
     "name": "stdout",
     "output_type": "stream",
     "text": [
      "Enter ISBN no. 18\n",
      "Enter author name A. PANDEY\n",
      "Enter title FM\n",
      "Enter title FINANCE\n",
      "Enter availibility status YES\n",
      "{12: ('Ayush', 'COA', 'CS', 'YES'), 13: ('GS GREWAL', 'MATHS', 'CS', 'YES'), 18: {'author': 'A. PANDEY', 'title': 'FM', 'genre': 'FINANCE', 'avai_status': 'YES'}}\n",
      "Enter ISBN no. 18\n",
      "18\n"
     ]
    }
   ],
   "source": [
    "import numpy as np\n",
    "details=dict()\n",
    "details[12]=(\"Ayush\",\"COA\",\"CS\",\"YES\")\n",
    "details[13]=(\"GS GREWAL\",\"MATHS\",\"CS\",\"YES\")\n",
    "def add_book():\n",
    "    isbn=int(input(\"Enter ISBN no. \"))\n",
    "    author=input(\"Enter author name \")\n",
    "    title=input(\"Enter title \")\n",
    "    genre=input(\"Enter title \")\n",
    "    avai_status=input(\"Enter availibility status \")\n",
    "    details[isbn]=dict(author=author,title=title,genre=genre,avai_status=avai_status)\n",
    "    print(details)\n",
    "\n",
    "def search_by_isbn():\n",
    "    user_isbn=int(input(\"Enter ISBN no. \"))\n",
    "    for detail in details:\n",
    "        if user_isbn==detail:\n",
    "            print(detail)\n",
    " \n",
    "                 \n",
    "add_book()\n",
    "search_by_isbn()"
   ]
  },
  {
   "cell_type": "code",
   "execution_count": null,
   "metadata": {},
   "outputs": [],
   "source": []
  }
 ],
 "metadata": {
  "kernelspec": {
   "display_name": "Python 3",
   "language": "python",
   "name": "python3"
  },
  "language_info": {
   "codemirror_mode": {
    "name": "ipython",
    "version": 3
   },
   "file_extension": ".py",
   "mimetype": "text/x-python",
   "name": "python",
   "nbconvert_exporter": "python",
   "pygments_lexer": "ipython3",
   "version": "3.7.3"
  }
 },
 "nbformat": 4,
 "nbformat_minor": 2
}
